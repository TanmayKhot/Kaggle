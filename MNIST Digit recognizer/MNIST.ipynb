{
 "cells": [
  {
   "cell_type": "markdown",
   "metadata": {},
   "source": [
    "## MNIST CNN"
   ]
  },
  {
   "cell_type": "code",
   "execution_count": 1,
   "metadata": {},
   "outputs": [],
   "source": [
    "%reload_ext autoreload\n",
    "%autoreload 2\n",
    "%matplotlib inline"
   ]
  },
  {
   "cell_type": "code",
   "execution_count": 2,
   "metadata": {},
   "outputs": [],
   "source": [
    "from fastai.vision import *"
   ]
  },
  {
   "cell_type": "markdown",
   "metadata": {},
   "source": [
    "### Data"
   ]
  },
  {
   "cell_type": "code",
   "execution_count": 3,
   "metadata": {},
   "outputs": [],
   "source": [
    "path = untar_data(URLs.MNIST)"
   ]
  },
  {
   "cell_type": "code",
   "execution_count": 4,
   "metadata": {},
   "outputs": [
    {
     "data": {
      "text/plain": [
       "[WindowsPath('C:/Users/Tanmay/.fastai/data/mnist_png/testing'),\n",
       " WindowsPath('C:/Users/Tanmay/.fastai/data/mnist_png/training')]"
      ]
     },
     "execution_count": 4,
     "metadata": {},
     "output_type": "execute_result"
    }
   ],
   "source": [
    "path.ls()"
   ]
  },
  {
   "cell_type": "code",
   "execution_count": 5,
   "metadata": {},
   "outputs": [],
   "source": [
    "il = ImageList.from_folder(path, convert_mode='L')\n",
    "#convert_mode is a method of Pillow i.e Python Image Library. L refers to 8-bit b/w images\n",
    "#https://pillow.readthedocs.io/en/stable/handbook/concepts.html#concept-modes"
   ]
  },
  {
   "cell_type": "code",
   "execution_count": 9,
   "metadata": {},
   "outputs": [
    {
     "data": {
      "text/plain": [
       "WindowsPath('C:/Users/Tanmay/.fastai/data/mnist_png/testing/0/10.png')"
      ]
     },
     "execution_count": 9,
     "metadata": {},
     "output_type": "execute_result"
    }
   ],
   "source": [
    "il.items[0]"
   ]
  },
  {
   "cell_type": "code",
   "execution_count": 7,
   "metadata": {},
   "outputs": [],
   "source": [
    "defaults.cmap='binary'"
   ]
  },
  {
   "cell_type": "code",
   "execution_count": 8,
   "metadata": {},
   "outputs": [
    {
     "data": {
      "text/plain": [
       "ImageList (70000 items)\n",
       "Image (1, 28, 28),Image (1, 28, 28),Image (1, 28, 28),Image (1, 28, 28),Image (1, 28, 28)\n",
       "Path: C:\\Users\\Tanmay\\.fastai\\data\\mnist_png"
      ]
     },
     "execution_count": 8,
     "metadata": {},
     "output_type": "execute_result"
    }
   ],
   "source": [
    "il"
   ]
  },
  {
   "cell_type": "code",
   "execution_count": 20,
   "metadata": {},
   "outputs": [
    {
     "data": {
      "image/png": "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\n",
      "text/plain": [
       "<Figure size 216x216 with 1 Axes>"
      ]
     },
     "metadata": {
      "needs_background": "light"
     },
     "output_type": "display_data"
    }
   ],
   "source": [
    "il[9977].show()"
   ]
  },
  {
   "cell_type": "code",
   "execution_count": 21,
   "metadata": {},
   "outputs": [],
   "source": [
    "sd = il.split_by_folder(train='training', valid='testing')"
   ]
  },
  {
   "cell_type": "code",
   "execution_count": 22,
   "metadata": {},
   "outputs": [
    {
     "data": {
      "text/plain": [
       "ItemLists;\n",
       "\n",
       "Train: ImageList (60000 items)\n",
       "Image (1, 28, 28),Image (1, 28, 28),Image (1, 28, 28),Image (1, 28, 28),Image (1, 28, 28)\n",
       "Path: C:\\Users\\Tanmay\\.fastai\\data\\mnist_png;\n",
       "\n",
       "Valid: ImageList (10000 items)\n",
       "Image (1, 28, 28),Image (1, 28, 28),Image (1, 28, 28),Image (1, 28, 28),Image (1, 28, 28)\n",
       "Path: C:\\Users\\Tanmay\\.fastai\\data\\mnist_png;\n",
       "\n",
       "Test: None"
      ]
     },
     "execution_count": 22,
     "metadata": {},
     "output_type": "execute_result"
    }
   ],
   "source": [
    "sd"
   ]
  },
  {
   "cell_type": "code",
   "execution_count": 23,
   "metadata": {},
   "outputs": [
    {
     "data": {
      "text/plain": [
       "[WindowsPath('C:/Users/Tanmay/.fastai/data/mnist_png/training/0'),\n",
       " WindowsPath('C:/Users/Tanmay/.fastai/data/mnist_png/training/1'),\n",
       " WindowsPath('C:/Users/Tanmay/.fastai/data/mnist_png/training/2'),\n",
       " WindowsPath('C:/Users/Tanmay/.fastai/data/mnist_png/training/3'),\n",
       " WindowsPath('C:/Users/Tanmay/.fastai/data/mnist_png/training/4'),\n",
       " WindowsPath('C:/Users/Tanmay/.fastai/data/mnist_png/training/5'),\n",
       " WindowsPath('C:/Users/Tanmay/.fastai/data/mnist_png/training/6'),\n",
       " WindowsPath('C:/Users/Tanmay/.fastai/data/mnist_png/training/7'),\n",
       " WindowsPath('C:/Users/Tanmay/.fastai/data/mnist_png/training/8'),\n",
       " WindowsPath('C:/Users/Tanmay/.fastai/data/mnist_png/training/9')]"
      ]
     },
     "execution_count": 23,
     "metadata": {},
     "output_type": "execute_result"
    }
   ],
   "source": [
    "(path/'training').ls()"
   ]
  },
  {
   "cell_type": "code",
   "execution_count": 36,
   "metadata": {},
   "outputs": [],
   "source": [
    "ll = sd.label_from_folder()"
   ]
  },
  {
   "cell_type": "code",
   "execution_count": 37,
   "metadata": {},
   "outputs": [
    {
     "data": {
      "text/plain": [
       "LabelLists;\n",
       "\n",
       "Train: LabelList (60000 items)\n",
       "x: ImageList\n",
       "Image (1, 28, 28),Image (1, 28, 28),Image (1, 28, 28),Image (1, 28, 28),Image (1, 28, 28)\n",
       "y: CategoryList\n",
       "0,0,0,0,0\n",
       "Path: C:\\Users\\Tanmay\\.fastai\\data\\mnist_png;\n",
       "\n",
       "Valid: LabelList (10000 items)\n",
       "x: ImageList\n",
       "Image (1, 28, 28),Image (1, 28, 28),Image (1, 28, 28),Image (1, 28, 28),Image (1, 28, 28)\n",
       "y: CategoryList\n",
       "0,0,0,0,0\n",
       "Path: C:\\Users\\Tanmay\\.fastai\\data\\mnist_png;\n",
       "\n",
       "Test: None"
      ]
     },
     "execution_count": 37,
     "metadata": {},
     "output_type": "execute_result"
    }
   ],
   "source": [
    "ll"
   ]
  },
  {
   "cell_type": "code",
   "execution_count": 38,
   "metadata": {},
   "outputs": [],
   "source": [
    "x,y = ll.train[0]"
   ]
  },
  {
   "cell_type": "code",
   "execution_count": 39,
   "metadata": {},
   "outputs": [
    {
     "name": "stdout",
     "output_type": "stream",
     "text": [
      "0 torch.Size([1, 28, 28])\n"
     ]
    },
    {
     "data": {
      "image/png": "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\n",
      "text/plain": [
       "<Figure size 216x216 with 1 Axes>"
      ]
     },
     "metadata": {
      "needs_background": "light"
     },
     "output_type": "display_data"
    }
   ],
   "source": [
    "x.show()\n",
    "print(y,x.shape)"
   ]
  },
  {
   "cell_type": "code",
   "execution_count": 44,
   "metadata": {},
   "outputs": [],
   "source": [
    "tfms = ([*rand_pad(padding=3, size=28, mode='zeros')], [])\n",
    "# * is used to apply both random crop and random padding by the rand_pad function\n",
    "# [] refers to the validation set. No need to perform transforms on validation set"
   ]
  },
  {
   "cell_type": "code",
   "execution_count": 45,
   "metadata": {},
   "outputs": [],
   "source": [
    "ll = ll.transform(tfms)"
   ]
  },
  {
   "cell_type": "code",
   "execution_count": 49,
   "metadata": {},
   "outputs": [],
   "source": [
    "#batchsize\n",
    "bs = 128"
   ]
  },
  {
   "cell_type": "code",
   "execution_count": 50,
   "metadata": {},
   "outputs": [],
   "source": [
    "# not using imagenet_stats because not using pretrained model\n",
    "data = ll.databunch(bs=bs).normalize()"
   ]
  },
  {
   "cell_type": "code",
   "execution_count": 51,
   "metadata": {},
   "outputs": [],
   "source": [
    "x,y = data.train_ds[0]"
   ]
  },
  {
   "cell_type": "code",
   "execution_count": 52,
   "metadata": {},
   "outputs": [
    {
     "name": "stdout",
     "output_type": "stream",
     "text": [
      "0\n"
     ]
    },
    {
     "data": {
      "image/png": "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\n",
      "text/plain": [
       "<Figure size 216x216 with 1 Axes>"
      ]
     },
     "metadata": {
      "needs_background": "light"
     },
     "output_type": "display_data"
    }
   ],
   "source": [
    "x.show()\n",
    "print(y)"
   ]
  },
  {
   "cell_type": "code",
   "execution_count": 53,
   "metadata": {},
   "outputs": [
    {
     "data": {
      "image/png": "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\n",
      "text/plain": [
       "<Figure size 576x576 with 9 Axes>"
      ]
     },
     "metadata": {
      "needs_background": "light"
     },
     "output_type": "display_data"
    }
   ],
   "source": [
    "def _plot(i,j,ax): data.train_ds[0][0].show(ax, cmap='gray')\n",
    "plot_multi(_plot, 3, 3, figsize=(8,8))"
   ]
  },
  {
   "cell_type": "code",
   "execution_count": 56,
   "metadata": {},
   "outputs": [
    {
     "data": {
      "text/plain": [
       "(torch.Size([128, 1, 28, 28]), torch.Size([128]))"
      ]
     },
     "execution_count": 56,
     "metadata": {},
     "output_type": "execute_result"
    }
   ],
   "source": [
    "xb,yb = data.one_batch()\n",
    "xb.shape,yb.shape"
   ]
  },
  {
   "cell_type": "code",
   "execution_count": 55,
   "metadata": {},
   "outputs": [
    {
     "data": {
      "image/png": "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\n",
      "text/plain": [
       "<Figure size 360x360 with 9 Axes>"
      ]
     },
     "metadata": {
      "needs_background": "light"
     },
     "output_type": "display_data"
    }
   ],
   "source": [
    "data.show_batch(rows=3, figsize=(5,5))"
   ]
  },
  {
   "cell_type": "markdown",
   "metadata": {},
   "source": [
    "### Basic CNN with batchnorm"
   ]
  },
  {
   "cell_type": "code",
   "execution_count": 60,
   "metadata": {},
   "outputs": [],
   "source": [
    "#Creating conv function with default kernel size, stride and padding\n",
    "def conv(ni,nf): \n",
    "    return nn.Conv2d(ni, nf, kernel_size=3, stride=2, padding=1)"
   ]
  },
  {
   "cell_type": "code",
   "execution_count": 58,
   "metadata": {},
   "outputs": [],
   "source": [
    "model = nn.Sequential(\n",
    "    conv(1, 8), # 14\n",
    "    nn.BatchNorm2d(8),\n",
    "    nn.ReLU(),\n",
    "    conv(8, 16), # 7\n",
    "    nn.BatchNorm2d(16),\n",
    "    nn.ReLU(),\n",
    "    conv(16, 32), # 4\n",
    "    nn.BatchNorm2d(32),\n",
    "    nn.ReLU(),\n",
    "    conv(32, 16), # 2\n",
    "    nn.BatchNorm2d(16),\n",
    "    nn.ReLU(),\n",
    "    conv(16, 10), # 1\n",
    "    nn.BatchNorm2d(10),\n",
    "    Flatten()     # remove (1,1) grid\n",
    ")"
   ]
  },
  {
   "cell_type": "code",
   "execution_count": null,
   "metadata": {},
   "outputs": [],
   "source": [
    "learn = Learner(data, model, loss_func = nn.CrossEntropyLoss(), metrics=accuracy)"
   ]
  },
  {
   "cell_type": "code",
   "execution_count": null,
   "metadata": {},
   "outputs": [
    {
     "name": "stdout",
     "output_type": "stream",
     "text": [
      "======================================================================\n",
      "Layer (type)         Output Shape         Param #    Trainable \n",
      "======================================================================\n",
      "Conv2d               [128, 8, 14, 14]     80         True      \n",
      "______________________________________________________________________\n",
      "BatchNorm2d          [128, 8, 14, 14]     16         True      \n",
      "______________________________________________________________________\n",
      "ReLU                 [128, 8, 14, 14]     0          False     \n",
      "______________________________________________________________________\n",
      "Conv2d               [128, 16, 7, 7]      1168       True      \n",
      "______________________________________________________________________\n",
      "BatchNorm2d          [128, 16, 7, 7]      32         True      \n",
      "______________________________________________________________________\n",
      "ReLU                 [128, 16, 7, 7]      0          False     \n",
      "______________________________________________________________________\n",
      "Conv2d               [128, 32, 4, 4]      4640       True      \n",
      "______________________________________________________________________\n",
      "BatchNorm2d          [128, 32, 4, 4]      64         True      \n",
      "______________________________________________________________________\n",
      "ReLU                 [128, 32, 4, 4]      0          False     \n",
      "______________________________________________________________________\n",
      "Conv2d               [128, 16, 2, 2]      4624       True      \n",
      "______________________________________________________________________\n",
      "BatchNorm2d          [128, 16, 2, 2]      32         True      \n",
      "______________________________________________________________________\n",
      "ReLU                 [128, 16, 2, 2]      0          False     \n",
      "______________________________________________________________________\n",
      "Conv2d               [128, 10, 1, 1]      1450       True      \n",
      "______________________________________________________________________\n",
      "BatchNorm2d          [128, 10, 1, 1]      20         True      \n",
      "______________________________________________________________________\n",
      "Flatten              [128, 10]            0          False     \n",
      "______________________________________________________________________\n",
      "\n",
      "Total params: 12126\n",
      "Total trainable params: 12126\n",
      "Total non-trainable params: 0\n",
      "\n"
     ]
    }
   ],
   "source": [
    "print(learn.summary())"
   ]
  },
  {
   "cell_type": "code",
   "execution_count": null,
   "metadata": {},
   "outputs": [],
   "source": [
    "xb = xb.cuda()"
   ]
  },
  {
   "cell_type": "code",
   "execution_count": null,
   "metadata": {},
   "outputs": [
    {
     "data": {
      "text/plain": [
       "torch.Size([128, 10])"
      ]
     },
     "execution_count": null,
     "metadata": {},
     "output_type": "execute_result"
    }
   ],
   "source": [
    "model(xb).shape"
   ]
  },
  {
   "cell_type": "code",
   "execution_count": null,
   "metadata": {},
   "outputs": [
    {
     "data": {
      "text/html": [],
      "text/plain": [
       "<IPython.core.display.HTML object>"
      ]
     },
     "metadata": {},
     "output_type": "display_data"
    },
    {
     "name": "stdout",
     "output_type": "stream",
     "text": [
      "LR Finder is complete, type {learner_name}.recorder.plot() to see the graph.\n"
     ]
    }
   ],
   "source": [
    "learn.lr_find(end_lr=100)"
   ]
  },
  {
   "cell_type": "code",
   "execution_count": null,
   "metadata": {},
   "outputs": [
    {
     "data": {
      "image/png": "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\n",
      "text/plain": [
       "<Figure size 432x288 with 1 Axes>"
      ]
     },
     "metadata": {
      "needs_background": "light"
     },
     "output_type": "display_data"
    }
   ],
   "source": [
    "learn.recorder.plot()"
   ]
  },
  {
   "cell_type": "code",
   "execution_count": null,
   "metadata": {},
   "outputs": [
    {
     "data": {
      "text/html": [
       "Total time: 00:30 <p><table style='width:300px; margin-bottom:10px'>\n",
       "  <tr>\n",
       "    <th>epoch</th>\n",
       "    <th>train_loss</th>\n",
       "    <th>valid_loss</th>\n",
       "    <th>accuracy</th>\n",
       "  </tr>\n",
       "  <tr>\n",
       "    <th>1</th>\n",
       "    <th>0.223167</th>\n",
       "    <th>0.217859</th>\n",
       "    <th>0.930500</th>\n",
       "  </tr>\n",
       "  <tr>\n",
       "    <th>2</th>\n",
       "    <th>0.136179</th>\n",
       "    <th>0.078651</th>\n",
       "    <th>0.976400</th>\n",
       "  </tr>\n",
       "  <tr>\n",
       "    <th>3</th>\n",
       "    <th>0.072080</th>\n",
       "    <th>0.038664</th>\n",
       "    <th>0.988600</th>\n",
       "  </tr>\n",
       "</table>\n"
      ],
      "text/plain": [
       "<IPython.core.display.HTML object>"
      ]
     },
     "metadata": {},
     "output_type": "display_data"
    }
   ],
   "source": [
    "learn.fit_one_cycle(3, max_lr=0.1)"
   ]
  },
  {
   "cell_type": "markdown",
   "metadata": {},
   "source": [
    "### Refactor"
   ]
  },
  {
   "cell_type": "code",
   "execution_count": null,
   "metadata": {},
   "outputs": [],
   "source": [
    "def conv2(ni,nf): return conv_layer(ni,nf,stride=2)"
   ]
  },
  {
   "cell_type": "code",
   "execution_count": null,
   "metadata": {},
   "outputs": [],
   "source": [
    "model = nn.Sequential(\n",
    "    conv2(1, 8),   # 14\n",
    "    conv2(8, 16),  # 7\n",
    "    conv2(16, 32), # 4\n",
    "    conv2(32, 16), # 2\n",
    "    conv2(16, 10), # 1\n",
    "    Flatten()      # remove (1,1) grid\n",
    ")"
   ]
  },
  {
   "cell_type": "code",
   "execution_count": null,
   "metadata": {},
   "outputs": [],
   "source": [
    "learn = Learner(data, model, loss_func = nn.CrossEntropyLoss(), metrics=accuracy)"
   ]
  },
  {
   "cell_type": "code",
   "execution_count": null,
   "metadata": {},
   "outputs": [
    {
     "data": {
      "text/html": [
       "Total time: 01:12 <p><table style='width:300px; margin-bottom:10px'>\n",
       "  <tr>\n",
       "    <th>epoch</th>\n",
       "    <th>train_loss</th>\n",
       "    <th>valid_loss</th>\n",
       "    <th>accuracy</th>\n",
       "  </tr>\n",
       "  <tr>\n",
       "    <th>1</th>\n",
       "    <th>0.228332</th>\n",
       "    <th>0.206325</th>\n",
       "    <th>0.937500</th>\n",
       "  </tr>\n",
       "  <tr>\n",
       "    <th>2</th>\n",
       "    <th>0.189966</th>\n",
       "    <th>0.192558</th>\n",
       "    <th>0.940800</th>\n",
       "  </tr>\n",
       "  <tr>\n",
       "    <th>3</th>\n",
       "    <th>0.156765</th>\n",
       "    <th>0.092810</th>\n",
       "    <th>0.969100</th>\n",
       "  </tr>\n",
       "  <tr>\n",
       "    <th>4</th>\n",
       "    <th>0.135871</th>\n",
       "    <th>0.083914</th>\n",
       "    <th>0.973300</th>\n",
       "  </tr>\n",
       "  <tr>\n",
       "    <th>5</th>\n",
       "    <th>0.108844</th>\n",
       "    <th>0.071582</th>\n",
       "    <th>0.978000</th>\n",
       "  </tr>\n",
       "  <tr>\n",
       "    <th>6</th>\n",
       "    <th>0.105887</th>\n",
       "    <th>0.128586</th>\n",
       "    <th>0.960200</th>\n",
       "  </tr>\n",
       "  <tr>\n",
       "    <th>7</th>\n",
       "    <th>0.080699</th>\n",
       "    <th>0.052754</th>\n",
       "    <th>0.983200</th>\n",
       "  </tr>\n",
       "  <tr>\n",
       "    <th>8</th>\n",
       "    <th>0.066007</th>\n",
       "    <th>0.037588</th>\n",
       "    <th>0.988600</th>\n",
       "  </tr>\n",
       "  <tr>\n",
       "    <th>9</th>\n",
       "    <th>0.047513</th>\n",
       "    <th>0.030255</th>\n",
       "    <th>0.990200</th>\n",
       "  </tr>\n",
       "  <tr>\n",
       "    <th>10</th>\n",
       "    <th>0.044705</th>\n",
       "    <th>0.028373</th>\n",
       "    <th>0.991600</th>\n",
       "  </tr>\n",
       "</table>\n"
      ],
      "text/plain": [
       "<IPython.core.display.HTML object>"
      ]
     },
     "metadata": {},
     "output_type": "display_data"
    }
   ],
   "source": [
    "learn.fit_one_cycle(10, max_lr=0.1)"
   ]
  }
