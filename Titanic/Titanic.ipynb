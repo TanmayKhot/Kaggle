{
  "cells": [
    {
      "metadata": {
        "_uuid": "fd609918e09236c80cb8583da6017ac63410a4b3"
      },
      "cell_type": "markdown",
      "source": "**Intoduction**\nThis is my first kernel at Kaggle. I choosed the Titanic competition which is a good way to introduce feature engineering and ensemble modeling. Firstly, I will display some feature analyses then I'll focus on the feature engineering. Last part concerns modeling and predicting the survival on the Titanic using an voting procedure.\n\nThis script follows three main parts:\n\n* Feature analysis\n* Feature engineerin\n* Modeling"
    },
    {
      "metadata": {
        "_uuid": "8f2839f25d086af736a60e9eeb907d3b93b6e0e5",
        "_cell_guid": "b1076dfc-b9ad-4769-8c92-a6c4dae69d19",
        "trusted": true
      },
      "cell_type": "code",
      "source": "# This Python 3 environment comes with many helpful analytics libraries installed\n# It is defined by the kaggle/python docker image: https://github.com/kaggle/docker-python\n# For example, here's several helpful packages to load in \n\nimport numpy as np # linear algebra\nimport pandas as pd # data processing, CSV file I/O (e.g. pd.read_csv)\n\n# Input data files are available in the \"../input/\" directory.\n# For example, running this (by clicking run or pressing Shift+Enter) will list the files in the input directory\n\nimport os\nprint(os.listdir(\"../input\"))\n\n# Any results you write to the current directory are saved as output.",
      "execution_count": 76,
      "outputs": [
        {
          "output_type": "stream",
          "text": "['train.csv', 'gender_submission.csv', 'test.csv']\n",
          "name": "stdout"
        }
      ]
    },
    {
      "metadata": {
        "_uuid": "b288fe45a7bb257072aace1665cbcc62de6dc01b"
      },
      "cell_type": "markdown",
      "source": "2. Loading and Checking data\n2.1 Loading the data\nLoading the training data set and test data set to variables train_data from the source as given above."
    },
    {
      "metadata": {
        "_cell_guid": "79c7e3d0-c299-4dcb-8224-4455121ee9b0",
        "_uuid": "d629ff2d2480ee46fbb7e2d37f6b5fab8052498a",
        "trusted": true
      },
      "cell_type": "code",
      "source": "train_data = pd.read_csv(\"../input/train.csv\")\ntest_data = pd.read_csv(\"../input/test.csv\")",
      "execution_count": 77,
      "outputs": []
    },
    {
      "metadata": {
        "_uuid": "d84b419613094f6ac68d448fc4b3c9d2ed13f761"
      },
      "cell_type": "markdown",
      "source": "2.2 Joining the Training and test data set. Also storing the indices of the starting values of the data sets in order to divide later."
    },
    {
      "metadata": {
        "trusted": true,
        "_uuid": "3ad506869864436846092e827b827c32960a8c74"
      },
      "cell_type": "code",
      "source": "titanic = train_data.append(test_data,ignore_index=True)\ntrain_index = len(train_data)\ntest_index = len(titanic) - len(train_data)\n",
      "execution_count": 78,
      "outputs": [
        {
          "output_type": "stream",
          "text": "/opt/conda/lib/python3.6/site-packages/pandas/core/frame.py:6211: FutureWarning: Sorting because non-concatenation axis is not aligned. A future version\nof pandas will change to not sort by default.\n\nTo accept the future behavior, pass 'sort=False'.\n\nTo retain the current behavior and silence the warning, pass 'sort=True'.\n\n  sort=sort)\n",
          "name": "stderr"
        }
      ]
    },
    {
      "metadata": {
        "_uuid": "7616cf54ebd9e08ab8c37e13847f2385d97faef3"
      },
      "cell_type": "markdown",
      "source": "2.3 Checking the details of every column and it's data"
    },
    {
      "metadata": {
        "trusted": true,
        "_uuid": "195c4138cca1fadfce107e34c6c5102263096aac"
      },
      "cell_type": "code",
      "source": "titanic.head()",
      "execution_count": 79,
      "outputs": [
        {
          "output_type": "execute_result",
          "execution_count": 79,
          "data": {
            "text/plain": "    Age Cabin Embarked        ...         SibSp Survived            Ticket\n0  22.0   NaN        S        ...             1      0.0         A/5 21171\n1  38.0   C85        C        ...             1      1.0          PC 17599\n2  26.0   NaN        S        ...             0      1.0  STON/O2. 3101282\n3  35.0  C123        S        ...             1      1.0            113803\n4  35.0   NaN        S        ...             0      0.0            373450\n\n[5 rows x 12 columns]",
            "text/html": "<div>\n<style scoped>\n    .dataframe tbody tr th:only-of-type {\n        vertical-align: middle;\n    }\n\n    .dataframe tbody tr th {\n        vertical-align: top;\n    }\n\n    .dataframe thead th {\n        text-align: right;\n    }\n</style>\n<table border=\"1\" class=\"dataframe\">\n  <thead>\n    <tr style=\"text-align: right;\">\n      <th></th>\n      <th>Age</th>\n      <th>Cabin</th>\n      <th>Embarked</th>\n      <th>Fare</th>\n      <th>Name</th>\n      <th>Parch</th>\n      <th>PassengerId</th>\n      <th>Pclass</th>\n      <th>Sex</th>\n      <th>SibSp</th>\n      <th>Survived</th>\n      <th>Ticket</th>\n    </tr>\n  </thead>\n  <tbody>\n    <tr>\n      <th>0</th>\n      <td>22.0</td>\n      <td>NaN</td>\n      <td>S</td>\n      <td>7.2500</td>\n      <td>Braund, Mr. Owen Harris</td>\n      <td>0</td>\n      <td>1</td>\n      <td>3</td>\n      <td>male</td>\n      <td>1</td>\n      <td>0.0</td>\n      <td>A/5 21171</td>\n    </tr>\n    <tr>\n      <th>1</th>\n      <td>38.0</td>\n      <td>C85</td>\n      <td>C</td>\n      <td>71.2833</td>\n      <td>Cumings, Mrs. John Bradley (Florence Briggs Th...</td>\n      <td>0</td>\n      <td>2</td>\n      <td>1</td>\n      <td>female</td>\n      <td>1</td>\n      <td>1.0</td>\n      <td>PC 17599</td>\n    </tr>\n    <tr>\n      <th>2</th>\n      <td>26.0</td>\n      <td>NaN</td>\n      <td>S</td>\n      <td>7.9250</td>\n      <td>Heikkinen, Miss. Laina</td>\n      <td>0</td>\n      <td>3</td>\n      <td>3</td>\n      <td>female</td>\n      <td>0</td>\n      <td>1.0</td>\n      <td>STON/O2. 3101282</td>\n    </tr>\n    <tr>\n      <th>3</th>\n      <td>35.0</td>\n      <td>C123</td>\n      <td>S</td>\n      <td>53.1000</td>\n      <td>Futrelle, Mrs. Jacques Heath (Lily May Peel)</td>\n      <td>0</td>\n      <td>4</td>\n      <td>1</td>\n      <td>female</td>\n      <td>1</td>\n      <td>1.0</td>\n      <td>113803</td>\n    </tr>\n    <tr>\n      <th>4</th>\n      <td>35.0</td>\n      <td>NaN</td>\n      <td>S</td>\n      <td>8.0500</td>\n      <td>Allen, Mr. William Henry</td>\n      <td>0</td>\n      <td>5</td>\n      <td>3</td>\n      <td>male</td>\n      <td>0</td>\n      <td>0.0</td>\n      <td>373450</td>\n    </tr>\n  </tbody>\n</table>\n</div>"
          },
          "metadata": {}
        }
      ]
    },
    {
      "metadata": {
        "_uuid": "8636eb554bbbe2be5f7655065c4196c6497cb9d9"
      },
      "cell_type": "markdown",
      "source": "Checking the number of items in each column and hence predicting the null valued columns, As we see here the total number of entries of the Titanic data set (Train + Test) is 1309. Some columns such as Name, Parch, Pclass,etc. have values for all the 1309 entries but some columns such as Age, Cabin, Embarked, Fare have some null values. Hence we need to deal with these missing values in the respective columns"
    },
    {
      "metadata": {
        "trusted": true,
        "_uuid": "9fa41571d8fd33a1c49195f64b9c985887501191"
      },
      "cell_type": "code",
      "source": "titanic.info()",
      "execution_count": 80,
      "outputs": [
        {
          "output_type": "stream",
          "text": "<class 'pandas.core.frame.DataFrame'>\nRangeIndex: 1309 entries, 0 to 1308\nData columns (total 12 columns):\nAge            1046 non-null float64\nCabin          295 non-null object\nEmbarked       1307 non-null object\nFare           1308 non-null float64\nName           1309 non-null object\nParch          1309 non-null int64\nPassengerId    1309 non-null int64\nPclass         1309 non-null int64\nSex            1309 non-null object\nSibSp          1309 non-null int64\nSurvived       891 non-null float64\nTicket         1309 non-null object\ndtypes: float64(3), int64(4), object(5)\nmemory usage: 122.8+ KB\n",
          "name": "stdout"
        }
      ]
    },
    {
      "metadata": {
        "_uuid": "bb6d3ca38fa3d3a382eeb88287c5d902e720bdc4"
      },
      "cell_type": "markdown",
      "source": "Extracting the honorifics of each passenger to get a better estimate of their ages. "
    },
    {
      "metadata": {
        "trusted": true,
        "_uuid": "e9ffd890b223a5c37ca363e45da74257d82eaa67",
        "scrolled": true
      },
      "cell_type": "code",
      "source": "titanic['Title'] = titanic.Name.apply(lambda name: name.split(\",\")[1].split(\".\")[0].strip() )",
      "execution_count": 81,
      "outputs": []
    },
    {
      "metadata": {
        "_uuid": "474d0f7a4fc78a7ccd586dbc9dffd86c3c637e04"
      },
      "cell_type": "markdown",
      "source": "Seeing the different types of honorifics and it's frequencies. Since Sir,Don,Jonkheer are roughly similiar so they can be clubbed together under the 'Royalty' category.  Hence we are decreasing the number of titles and normalizing the similiar titles to a single generic title\n"
    },
    {
      "metadata": {
        "trusted": true,
        "_uuid": "2a72150b20a9b12fc436122ac048067a15819eef"
      },
      "cell_type": "code",
      "source": "titanic.Title.value_counts()",
      "execution_count": 82,
      "outputs": [
        {
          "output_type": "execute_result",
          "execution_count": 82,
          "data": {
            "text/plain": "Mr              757\nMiss            260\nMrs             197\nMaster           61\nDr                8\nRev               8\nCol               4\nMajor             2\nMs                2\nMlle              2\nSir               1\nCapt              1\nthe Countess      1\nDon               1\nLady              1\nDona              1\nJonkheer          1\nMme               1\nName: Title, dtype: int64"
          },
          "metadata": {}
        }
      ]
    },
    {
      "metadata": {
        "trusted": true,
        "_uuid": "1112445203b24ccb3790129cc344f4b9183ce802"
      },
      "cell_type": "code",
      "source": "normalized_titles = {\n    \"Capt\":       \"Officer\",\n    \"Col\":        \"Officer\",\n    \"Major\":      \"Officer\",\n    \"Jonkheer\":   \"Royalty\",\n    \"Don\":        \"Royalty\",\n    \"Sir\" :       \"Royalty\",\n    \"Dr\":         \"Officer\",\n    \"Rev\":        \"Officer\",\n    \"the Countess\":\"Royalty\",\n    \"Dona\":       \"Royalty\",\n    \"Mme\":        \"Mrs\",\n    \"Mlle\":       \"Miss\",\n    \"Ms\":         \"Mrs\",\n    \"Mr\" :        \"Mr\",\n    \"Mrs\" :       \"Mrs\",\n    \"Miss\" :      \"Miss\",\n    \"Master\" :    \"Master\",\n    \"Lady\" :      \"Royalty\"\n}",
      "execution_count": 83,
      "outputs": []
    },
    {
      "metadata": {
        "_uuid": "b540e395c01f8416cb0b479f22e93db187e1d607"
      },
      "cell_type": "markdown",
      "source": "The map functions maps the original title to the new generic title as per the above normalized_titles list. "
    },
    {
      "metadata": {
        "trusted": true,
        "_uuid": "6b58bf08e31d4cc798443716c03b98fd9836fa0a"
      },
      "cell_type": "code",
      "source": "titanic.Title = titanic.Title.map(normalized_titles)\nprint(titanic.Title.value_counts())",
      "execution_count": 84,
      "outputs": [
        {
          "output_type": "stream",
          "text": "Mr         757\nMiss       262\nMrs        200\nMaster      61\nOfficer     23\nRoyalty      6\nName: Title, dtype: int64\n",
          "name": "stdout"
        }
      ]
    },
    {
      "metadata": {
        "trusted": true,
        "_uuid": "2f42edff3b3b8ee14f684bcb88a23d77b063cf4d"
      },
      "cell_type": "code",
      "source": "grouped = titanic.groupby(['Sex','Pclass', 'Title'])  \ngrouped.first()",
      "execution_count": 85,
      "outputs": [
        {
          "output_type": "execute_result",
          "execution_count": 85,
          "data": {
            "text/plain": "                         Age        ...                   Ticket\nSex    Pclass Title                 ...                         \nfemale 1      Miss     58.00        ...                   113783\n              Mrs      38.00        ...                 PC 17599\n              Officer  49.00        ...                    17465\n              Royalty  48.00        ...                    11755\n       2      Miss      3.00        ...            SC/Paris 2123\n              Mrs      14.00        ...                   237736\n       3      Miss     26.00        ...         STON/O2. 3101282\n              Mrs      27.00        ...                   347742\nmale   1      Master    0.92        ...                   113781\n              Mr       54.00        ...                    17463\n              Officer  44.00        ...                    19928\n              Royalty  40.00        ...                 PC 17601\n       2      Master    0.83        ...                   248738\n              Mr       35.00        ...                   244373\n              Officer  42.00        ...                   244310\n       3      Master    2.00        ...                   349909\n              Mr       22.00        ...                A/5 21171\n\n[17 rows x 10 columns]",
            "text/html": "<div>\n<style scoped>\n    .dataframe tbody tr th:only-of-type {\n        vertical-align: middle;\n    }\n\n    .dataframe tbody tr th {\n        vertical-align: top;\n    }\n\n    .dataframe thead th {\n        text-align: right;\n    }\n</style>\n<table border=\"1\" class=\"dataframe\">\n  <thead>\n    <tr style=\"text-align: right;\">\n      <th></th>\n      <th></th>\n      <th></th>\n      <th>Age</th>\n      <th>Cabin</th>\n      <th>Embarked</th>\n      <th>Fare</th>\n      <th>Name</th>\n      <th>Parch</th>\n      <th>PassengerId</th>\n      <th>SibSp</th>\n      <th>Survived</th>\n      <th>Ticket</th>\n    </tr>\n    <tr>\n      <th>Sex</th>\n      <th>Pclass</th>\n      <th>Title</th>\n      <th></th>\n      <th></th>\n      <th></th>\n      <th></th>\n      <th></th>\n      <th></th>\n      <th></th>\n      <th></th>\n      <th></th>\n      <th></th>\n    </tr>\n  </thead>\n  <tbody>\n    <tr>\n      <th rowspan=\"8\" valign=\"top\">female</th>\n      <th rowspan=\"4\" valign=\"top\">1</th>\n      <th>Miss</th>\n      <td>58.00</td>\n      <td>C103</td>\n      <td>S</td>\n      <td>26.5500</td>\n      <td>Bonnell, Miss. Elizabeth</td>\n      <td>0</td>\n      <td>12</td>\n      <td>0</td>\n      <td>1.0</td>\n      <td>113783</td>\n    </tr>\n    <tr>\n      <th>Mrs</th>\n      <td>38.00</td>\n      <td>C85</td>\n      <td>C</td>\n      <td>71.2833</td>\n      <td>Cumings, Mrs. John Bradley (Florence Briggs Th...</td>\n      <td>0</td>\n      <td>2</td>\n      <td>1</td>\n      <td>1.0</td>\n      <td>PC 17599</td>\n    </tr>\n    <tr>\n      <th>Officer</th>\n      <td>49.00</td>\n      <td>D17</td>\n      <td>S</td>\n      <td>25.9292</td>\n      <td>Leader, Dr. Alice (Farnham)</td>\n      <td>0</td>\n      <td>797</td>\n      <td>0</td>\n      <td>1.0</td>\n      <td>17465</td>\n    </tr>\n    <tr>\n      <th>Royalty</th>\n      <td>48.00</td>\n      <td>A16</td>\n      <td>C</td>\n      <td>39.6000</td>\n      <td>Duff Gordon, Lady. (Lucille Christiana Sutherl...</td>\n      <td>0</td>\n      <td>557</td>\n      <td>1</td>\n      <td>1.0</td>\n      <td>11755</td>\n    </tr>\n    <tr>\n      <th rowspan=\"2\" valign=\"top\">2</th>\n      <th>Miss</th>\n      <td>3.00</td>\n      <td>E101</td>\n      <td>C</td>\n      <td>41.5792</td>\n      <td>Laroche, Miss. Simonne Marie Anne Andree</td>\n      <td>2</td>\n      <td>44</td>\n      <td>1</td>\n      <td>1.0</td>\n      <td>SC/Paris 2123</td>\n    </tr>\n    <tr>\n      <th>Mrs</th>\n      <td>14.00</td>\n      <td>F33</td>\n      <td>C</td>\n      <td>30.0708</td>\n      <td>Nasser, Mrs. Nicholas (Adele Achem)</td>\n      <td>0</td>\n      <td>10</td>\n      <td>1</td>\n      <td>1.0</td>\n      <td>237736</td>\n    </tr>\n    <tr>\n      <th rowspan=\"2\" valign=\"top\">3</th>\n      <th>Miss</th>\n      <td>26.00</td>\n      <td>G6</td>\n      <td>S</td>\n      <td>7.9250</td>\n      <td>Heikkinen, Miss. Laina</td>\n      <td>0</td>\n      <td>3</td>\n      <td>0</td>\n      <td>1.0</td>\n      <td>STON/O2. 3101282</td>\n    </tr>\n    <tr>\n      <th>Mrs</th>\n      <td>27.00</td>\n      <td>G6</td>\n      <td>S</td>\n      <td>11.1333</td>\n      <td>Johnson, Mrs. Oscar W (Elisabeth Vilhelmina Berg)</td>\n      <td>2</td>\n      <td>9</td>\n      <td>0</td>\n      <td>1.0</td>\n      <td>347742</td>\n    </tr>\n    <tr>\n      <th rowspan=\"9\" valign=\"top\">male</th>\n      <th rowspan=\"4\" valign=\"top\">1</th>\n      <th>Master</th>\n      <td>0.92</td>\n      <td>C22 C26</td>\n      <td>S</td>\n      <td>151.5500</td>\n      <td>Allison, Master. Hudson Trevor</td>\n      <td>2</td>\n      <td>306</td>\n      <td>1</td>\n      <td>1.0</td>\n      <td>113781</td>\n    </tr>\n    <tr>\n      <th>Mr</th>\n      <td>54.00</td>\n      <td>E46</td>\n      <td>S</td>\n      <td>51.8625</td>\n      <td>McCarthy, Mr. Timothy J</td>\n      <td>0</td>\n      <td>7</td>\n      <td>0</td>\n      <td>0.0</td>\n      <td>17463</td>\n    </tr>\n    <tr>\n      <th>Officer</th>\n      <td>44.00</td>\n      <td>C78</td>\n      <td>Q</td>\n      <td>90.0000</td>\n      <td>Minahan, Dr. William Edward</td>\n      <td>0</td>\n      <td>246</td>\n      <td>2</td>\n      <td>0.0</td>\n      <td>19928</td>\n    </tr>\n    <tr>\n      <th>Royalty</th>\n      <td>40.00</td>\n      <td>A20</td>\n      <td>C</td>\n      <td>27.7208</td>\n      <td>Uruchurtu, Don. Manuel E</td>\n      <td>0</td>\n      <td>31</td>\n      <td>0</td>\n      <td>0.0</td>\n      <td>PC 17601</td>\n    </tr>\n    <tr>\n      <th rowspan=\"3\" valign=\"top\">2</th>\n      <th>Master</th>\n      <td>0.83</td>\n      <td>F4</td>\n      <td>S</td>\n      <td>29.0000</td>\n      <td>Caldwell, Master. Alden Gates</td>\n      <td>2</td>\n      <td>79</td>\n      <td>0</td>\n      <td>1.0</td>\n      <td>248738</td>\n    </tr>\n    <tr>\n      <th>Mr</th>\n      <td>35.00</td>\n      <td>D56</td>\n      <td>S</td>\n      <td>13.0000</td>\n      <td>Williams, Mr. Charles Eugene</td>\n      <td>0</td>\n      <td>18</td>\n      <td>0</td>\n      <td>1.0</td>\n      <td>244373</td>\n    </tr>\n    <tr>\n      <th>Officer</th>\n      <td>42.00</td>\n      <td>NaN</td>\n      <td>S</td>\n      <td>13.0000</td>\n      <td>Byles, Rev. Thomas Roussel Davids</td>\n      <td>0</td>\n      <td>150</td>\n      <td>0</td>\n      <td>0.0</td>\n      <td>244310</td>\n    </tr>\n    <tr>\n      <th rowspan=\"2\" valign=\"top\">3</th>\n      <th>Master</th>\n      <td>2.00</td>\n      <td>E121</td>\n      <td>S</td>\n      <td>21.0750</td>\n      <td>Palsson, Master. Gosta Leonard</td>\n      <td>1</td>\n      <td>8</td>\n      <td>3</td>\n      <td>0.0</td>\n      <td>349909</td>\n    </tr>\n    <tr>\n      <th>Mr</th>\n      <td>22.00</td>\n      <td>F G73</td>\n      <td>S</td>\n      <td>7.2500</td>\n      <td>Braund, Mr. Owen Harris</td>\n      <td>0</td>\n      <td>1</td>\n      <td>1</td>\n      <td>0.0</td>\n      <td>A/5 21171</td>\n    </tr>\n  </tbody>\n</table>\n</div>"
          },
          "metadata": {}
        }
      ]
    },
    {
      "metadata": {
        "_uuid": "bea245959e3a596fcab27ca86a5d49dfb8c5d2a4"
      },
      "cell_type": "markdown",
      "source": "Taking median of each category of people and filling the NA values."
    },
    {
      "metadata": {
        "trusted": true,
        "_uuid": "fdda79aa16ac74d27bcc1c0c8a5b92b693daf7b4"
      },
      "cell_type": "code",
      "source": "grouped.Age.median()\ntitanic.Age = grouped.Age.apply(lambda x: x.fillna(x.median()))\ntitanic.info()",
      "execution_count": 86,
      "outputs": [
        {
          "output_type": "stream",
          "text": "<class 'pandas.core.frame.DataFrame'>\nRangeIndex: 1309 entries, 0 to 1308\nData columns (total 13 columns):\nAge            1309 non-null float64\nCabin          295 non-null object\nEmbarked       1307 non-null object\nFare           1308 non-null float64\nName           1309 non-null object\nParch          1309 non-null int64\nPassengerId    1309 non-null int64\nPclass         1309 non-null int64\nSex            1309 non-null object\nSibSp          1309 non-null int64\nSurvived       891 non-null float64\nTicket         1309 non-null object\nTitle          1309 non-null object\ndtypes: float64(3), int64(4), object(6)\nmemory usage: 133.0+ KB\n",
          "name": "stdout"
        }
      ]
    },
    {
      "metadata": {
        "trusted": true,
        "_uuid": "f2db1f4a094d860feff6d64f6cfab28832b573cf"
      },
      "cell_type": "code",
      "source": "titanic.Cabin = titanic.Cabin.fillna('U')\ntitanic.info()",
      "execution_count": 87,
      "outputs": [
        {
          "output_type": "stream",
          "text": "<class 'pandas.core.frame.DataFrame'>\nRangeIndex: 1309 entries, 0 to 1308\nData columns (total 13 columns):\nAge            1309 non-null float64\nCabin          1309 non-null object\nEmbarked       1307 non-null object\nFare           1308 non-null float64\nName           1309 non-null object\nParch          1309 non-null int64\nPassengerId    1309 non-null int64\nPclass         1309 non-null int64\nSex            1309 non-null object\nSibSp          1309 non-null int64\nSurvived       891 non-null float64\nTicket         1309 non-null object\nTitle          1309 non-null object\ndtypes: float64(3), int64(4), object(6)\nmemory usage: 133.0+ KB\n",
          "name": "stdout"
        }
      ]
    },
    {
      "metadata": {
        "_uuid": "3f18c0de5ed53637863490c07c29eb2ff64290ad"
      },
      "cell_type": "markdown",
      "source": "The missing values of embarked are filled with the most occuring value in the embarked column, NA values for Fare are filled with the median value of all Fare prices"
    },
    {
      "metadata": {
        "trusted": true,
        "_uuid": "2c5f744e3938f127a7d2ddab8a42e3ad11049271"
      },
      "cell_type": "code",
      "source": "most_embarked = titanic.Embarked.value_counts().index[0]\ntitanic.Embarked = titanic.Embarked.fillna(most_embarked)\n\ntitanic.Fare = titanic.Fare.fillna(titanic.Fare.median())\n\ntitanic.info()",
      "execution_count": 88,
      "outputs": [
        {
          "output_type": "stream",
          "text": "<class 'pandas.core.frame.DataFrame'>\nRangeIndex: 1309 entries, 0 to 1308\nData columns (total 13 columns):\nAge            1309 non-null float64\nCabin          1309 non-null object\nEmbarked       1309 non-null object\nFare           1309 non-null float64\nName           1309 non-null object\nParch          1309 non-null int64\nPassengerId    1309 non-null int64\nPclass         1309 non-null int64\nSex            1309 non-null object\nSibSp          1309 non-null int64\nSurvived       891 non-null float64\nTicket         1309 non-null object\nTitle          1309 non-null object\ndtypes: float64(3), int64(4), object(6)\nmemory usage: 133.0+ KB\n",
          "name": "stdout"
        }
      ]
    },
    {
      "metadata": {
        "_uuid": "862a156886c289494f685bb252930a110319e20d"
      },
      "cell_type": "markdown",
      "source": "Creating a new type called 'FamilySize' which tells us if the passenger had some other relatives on the ship or if they were travelling alone. Hence the +1 indicates the passenger itself"
    },
    {
      "metadata": {
        "trusted": true,
        "_uuid": "15b5cf954bee83b528d4bc009a93bffafb5b155f"
      },
      "cell_type": "code",
      "source": "titanic['FamilySize'] = titanic.Parch + titanic.SibSp + 1\ntitanic.Cabin = titanic.Cabin.map(lambda x: x[0])",
      "execution_count": 89,
      "outputs": []
    },
    {
      "metadata": {
        "_uuid": "cc8dd756a7c3cbd484c31098467c33e109e62935"
      },
      "cell_type": "markdown",
      "source": "In order to covert strings to numbers, mapping 'male' string to 0 and 'female' string to 1"
    },
    {
      "metadata": {
        "trusted": true,
        "_uuid": "01fc3750a9290c34c006cdf6976c40f275ba5d13"
      },
      "cell_type": "code",
      "source": "titanic.Sex = titanic.Sex.map({\"male\": 0, \"female\":1})\ntitanic.head()",
      "execution_count": 90,
      "outputs": [
        {
          "output_type": "execute_result",
          "execution_count": 90,
          "data": {
            "text/plain": "    Age Cabin Embarked     ...                Ticket Title  FamilySize\n0  22.0     U        S     ...             A/5 21171    Mr           2\n1  38.0     C        C     ...              PC 17599   Mrs           2\n2  26.0     U        S     ...      STON/O2. 3101282  Miss           1\n3  35.0     C        S     ...                113803   Mrs           2\n4  35.0     U        S     ...                373450    Mr           1\n\n[5 rows x 14 columns]",
            "text/html": "<div>\n<style scoped>\n    .dataframe tbody tr th:only-of-type {\n        vertical-align: middle;\n    }\n\n    .dataframe tbody tr th {\n        vertical-align: top;\n    }\n\n    .dataframe thead th {\n        text-align: right;\n    }\n</style>\n<table border=\"1\" class=\"dataframe\">\n  <thead>\n    <tr style=\"text-align: right;\">\n      <th></th>\n      <th>Age</th>\n      <th>Cabin</th>\n      <th>Embarked</th>\n      <th>Fare</th>\n      <th>Name</th>\n      <th>Parch</th>\n      <th>PassengerId</th>\n      <th>Pclass</th>\n      <th>Sex</th>\n      <th>SibSp</th>\n      <th>Survived</th>\n      <th>Ticket</th>\n      <th>Title</th>\n      <th>FamilySize</th>\n    </tr>\n  </thead>\n  <tbody>\n    <tr>\n      <th>0</th>\n      <td>22.0</td>\n      <td>U</td>\n      <td>S</td>\n      <td>7.2500</td>\n      <td>Braund, Mr. Owen Harris</td>\n      <td>0</td>\n      <td>1</td>\n      <td>3</td>\n      <td>0</td>\n      <td>1</td>\n      <td>0.0</td>\n      <td>A/5 21171</td>\n      <td>Mr</td>\n      <td>2</td>\n    </tr>\n    <tr>\n      <th>1</th>\n      <td>38.0</td>\n      <td>C</td>\n      <td>C</td>\n      <td>71.2833</td>\n      <td>Cumings, Mrs. John Bradley (Florence Briggs Th...</td>\n      <td>0</td>\n      <td>2</td>\n      <td>1</td>\n      <td>1</td>\n      <td>1</td>\n      <td>1.0</td>\n      <td>PC 17599</td>\n      <td>Mrs</td>\n      <td>2</td>\n    </tr>\n    <tr>\n      <th>2</th>\n      <td>26.0</td>\n      <td>U</td>\n      <td>S</td>\n      <td>7.9250</td>\n      <td>Heikkinen, Miss. Laina</td>\n      <td>0</td>\n      <td>3</td>\n      <td>3</td>\n      <td>1</td>\n      <td>0</td>\n      <td>1.0</td>\n      <td>STON/O2. 3101282</td>\n      <td>Miss</td>\n      <td>1</td>\n    </tr>\n    <tr>\n      <th>3</th>\n      <td>35.0</td>\n      <td>C</td>\n      <td>S</td>\n      <td>53.1000</td>\n      <td>Futrelle, Mrs. Jacques Heath (Lily May Peel)</td>\n      <td>0</td>\n      <td>4</td>\n      <td>1</td>\n      <td>1</td>\n      <td>1</td>\n      <td>1.0</td>\n      <td>113803</td>\n      <td>Mrs</td>\n      <td>2</td>\n    </tr>\n    <tr>\n      <th>4</th>\n      <td>35.0</td>\n      <td>U</td>\n      <td>S</td>\n      <td>8.0500</td>\n      <td>Allen, Mr. William Henry</td>\n      <td>0</td>\n      <td>5</td>\n      <td>3</td>\n      <td>0</td>\n      <td>0</td>\n      <td>0.0</td>\n      <td>373450</td>\n      <td>Mr</td>\n      <td>1</td>\n    </tr>\n  </tbody>\n</table>\n</div>"
          },
          "metadata": {}
        }
      ]
    },
    {
      "metadata": {
        "_uuid": "d4fa7a05cfdd8d0022ee8ba6f39e5684b9f6a1c3"
      },
      "cell_type": "markdown",
      "source": "One Hot encoding for all other types having string values"
    },
    {
      "metadata": {
        "trusted": true,
        "_uuid": "6a339eb9b6877b7a69c541e07c93106cbdb48183"
      },
      "cell_type": "code",
      "source": "pclass_dummies = pd.get_dummies(titanic.Pclass, prefix=\"Pclass\")\ntitle_dummies = pd.get_dummies(titanic.Title, prefix=\"Title\")\ncabin_dummies = pd.get_dummies(titanic.Cabin, prefix=\"Cabin\")\nembarked_dummies = pd.get_dummies(titanic.Embarked, prefix=\"Embarked\")\n\ntitanic_dummies = pd.concat([titanic, pclass_dummies, title_dummies, cabin_dummies, embarked_dummies], axis=1)\ntitanic.head()",
      "execution_count": 91,
      "outputs": [
        {
          "output_type": "execute_result",
          "execution_count": 91,
          "data": {
            "text/plain": "    Age Cabin Embarked     ...                Ticket Title  FamilySize\n0  22.0     U        S     ...             A/5 21171    Mr           2\n1  38.0     C        C     ...              PC 17599   Mrs           2\n2  26.0     U        S     ...      STON/O2. 3101282  Miss           1\n3  35.0     C        S     ...                113803   Mrs           2\n4  35.0     U        S     ...                373450    Mr           1\n\n[5 rows x 14 columns]",
            "text/html": "<div>\n<style scoped>\n    .dataframe tbody tr th:only-of-type {\n        vertical-align: middle;\n    }\n\n    .dataframe tbody tr th {\n        vertical-align: top;\n    }\n\n    .dataframe thead th {\n        text-align: right;\n    }\n</style>\n<table border=\"1\" class=\"dataframe\">\n  <thead>\n    <tr style=\"text-align: right;\">\n      <th></th>\n      <th>Age</th>\n      <th>Cabin</th>\n      <th>Embarked</th>\n      <th>Fare</th>\n      <th>Name</th>\n      <th>Parch</th>\n      <th>PassengerId</th>\n      <th>Pclass</th>\n      <th>Sex</th>\n      <th>SibSp</th>\n      <th>Survived</th>\n      <th>Ticket</th>\n      <th>Title</th>\n      <th>FamilySize</th>\n    </tr>\n  </thead>\n  <tbody>\n    <tr>\n      <th>0</th>\n      <td>22.0</td>\n      <td>U</td>\n      <td>S</td>\n      <td>7.2500</td>\n      <td>Braund, Mr. Owen Harris</td>\n      <td>0</td>\n      <td>1</td>\n      <td>3</td>\n      <td>0</td>\n      <td>1</td>\n      <td>0.0</td>\n      <td>A/5 21171</td>\n      <td>Mr</td>\n      <td>2</td>\n    </tr>\n    <tr>\n      <th>1</th>\n      <td>38.0</td>\n      <td>C</td>\n      <td>C</td>\n      <td>71.2833</td>\n      <td>Cumings, Mrs. John Bradley (Florence Briggs Th...</td>\n      <td>0</td>\n      <td>2</td>\n      <td>1</td>\n      <td>1</td>\n      <td>1</td>\n      <td>1.0</td>\n      <td>PC 17599</td>\n      <td>Mrs</td>\n      <td>2</td>\n    </tr>\n    <tr>\n      <th>2</th>\n      <td>26.0</td>\n      <td>U</td>\n      <td>S</td>\n      <td>7.9250</td>\n      <td>Heikkinen, Miss. Laina</td>\n      <td>0</td>\n      <td>3</td>\n      <td>3</td>\n      <td>1</td>\n      <td>0</td>\n      <td>1.0</td>\n      <td>STON/O2. 3101282</td>\n      <td>Miss</td>\n      <td>1</td>\n    </tr>\n    <tr>\n      <th>3</th>\n      <td>35.0</td>\n      <td>C</td>\n      <td>S</td>\n      <td>53.1000</td>\n      <td>Futrelle, Mrs. Jacques Heath (Lily May Peel)</td>\n      <td>0</td>\n      <td>4</td>\n      <td>1</td>\n      <td>1</td>\n      <td>1</td>\n      <td>1.0</td>\n      <td>113803</td>\n      <td>Mrs</td>\n      <td>2</td>\n    </tr>\n    <tr>\n      <th>4</th>\n      <td>35.0</td>\n      <td>U</td>\n      <td>S</td>\n      <td>8.0500</td>\n      <td>Allen, Mr. William Henry</td>\n      <td>0</td>\n      <td>5</td>\n      <td>3</td>\n      <td>0</td>\n      <td>0</td>\n      <td>0.0</td>\n      <td>373450</td>\n      <td>Mr</td>\n      <td>1</td>\n    </tr>\n  </tbody>\n</table>\n</div>"
          },
          "metadata": {}
        }
      ]
    },
    {
      "metadata": {
        "_uuid": "b64a858ec9cb6169354a3deffc634a52c0a90cf4"
      },
      "cell_type": "markdown",
      "source": "Deleting the original columns having string values"
    },
    {
      "metadata": {
        "trusted": true,
        "_uuid": "b27eb975fc9b72267e2c59576ccd773c221d6d52"
      },
      "cell_type": "code",
      "source": "titanic_dummies = titanic_dummies.drop(['Name','Ticket','Title','Parch','SibSp','Cabin','Embarked'],axis=1)",
      "execution_count": 92,
      "outputs": []
    },
    {
      "metadata": {
        "trusted": true,
        "_uuid": "f91de1bc15af71dee75cffe014af7af6a6d12871"
      },
      "cell_type": "code",
      "source": "titanic_dummies.head()",
      "execution_count": 93,
      "outputs": [
        {
          "output_type": "execute_result",
          "execution_count": 93,
          "data": {
            "text/plain": "    Age     Fare  PassengerId     ...      Embarked_C  Embarked_Q  Embarked_S\n0  22.0   7.2500            1     ...               0           0           1\n1  38.0  71.2833            2     ...               1           0           0\n2  26.0   7.9250            3     ...               0           0           1\n3  35.0  53.1000            4     ...               0           0           1\n4  35.0   8.0500            5     ...               0           0           1\n\n[5 rows x 28 columns]",
            "text/html": "<div>\n<style scoped>\n    .dataframe tbody tr th:only-of-type {\n        vertical-align: middle;\n    }\n\n    .dataframe tbody tr th {\n        vertical-align: top;\n    }\n\n    .dataframe thead th {\n        text-align: right;\n    }\n</style>\n<table border=\"1\" class=\"dataframe\">\n  <thead>\n    <tr style=\"text-align: right;\">\n      <th></th>\n      <th>Age</th>\n      <th>Fare</th>\n      <th>PassengerId</th>\n      <th>Pclass</th>\n      <th>Sex</th>\n      <th>Survived</th>\n      <th>FamilySize</th>\n      <th>Pclass_1</th>\n      <th>Pclass_2</th>\n      <th>Pclass_3</th>\n      <th>Title_Master</th>\n      <th>Title_Miss</th>\n      <th>Title_Mr</th>\n      <th>Title_Mrs</th>\n      <th>Title_Officer</th>\n      <th>Title_Royalty</th>\n      <th>Cabin_A</th>\n      <th>Cabin_B</th>\n      <th>Cabin_C</th>\n      <th>Cabin_D</th>\n      <th>Cabin_E</th>\n      <th>Cabin_F</th>\n      <th>Cabin_G</th>\n      <th>Cabin_T</th>\n      <th>Cabin_U</th>\n      <th>Embarked_C</th>\n      <th>Embarked_Q</th>\n      <th>Embarked_S</th>\n    </tr>\n  </thead>\n  <tbody>\n    <tr>\n      <th>0</th>\n      <td>22.0</td>\n      <td>7.2500</td>\n      <td>1</td>\n      <td>3</td>\n      <td>0</td>\n      <td>0.0</td>\n      <td>2</td>\n      <td>0</td>\n      <td>0</td>\n      <td>1</td>\n      <td>0</td>\n      <td>0</td>\n      <td>1</td>\n      <td>0</td>\n      <td>0</td>\n      <td>0</td>\n      <td>0</td>\n      <td>0</td>\n      <td>0</td>\n      <td>0</td>\n      <td>0</td>\n      <td>0</td>\n      <td>0</td>\n      <td>0</td>\n      <td>1</td>\n      <td>0</td>\n      <td>0</td>\n      <td>1</td>\n    </tr>\n    <tr>\n      <th>1</th>\n      <td>38.0</td>\n      <td>71.2833</td>\n      <td>2</td>\n      <td>1</td>\n      <td>1</td>\n      <td>1.0</td>\n      <td>2</td>\n      <td>1</td>\n      <td>0</td>\n      <td>0</td>\n      <td>0</td>\n      <td>0</td>\n      <td>0</td>\n      <td>1</td>\n      <td>0</td>\n      <td>0</td>\n      <td>0</td>\n      <td>0</td>\n      <td>1</td>\n      <td>0</td>\n      <td>0</td>\n      <td>0</td>\n      <td>0</td>\n      <td>0</td>\n      <td>0</td>\n      <td>1</td>\n      <td>0</td>\n      <td>0</td>\n    </tr>\n    <tr>\n      <th>2</th>\n      <td>26.0</td>\n      <td>7.9250</td>\n      <td>3</td>\n      <td>3</td>\n      <td>1</td>\n      <td>1.0</td>\n      <td>1</td>\n      <td>0</td>\n      <td>0</td>\n      <td>1</td>\n      <td>0</td>\n      <td>1</td>\n      <td>0</td>\n      <td>0</td>\n      <td>0</td>\n      <td>0</td>\n      <td>0</td>\n      <td>0</td>\n      <td>0</td>\n      <td>0</td>\n      <td>0</td>\n      <td>0</td>\n      <td>0</td>\n      <td>0</td>\n      <td>1</td>\n      <td>0</td>\n      <td>0</td>\n      <td>1</td>\n    </tr>\n    <tr>\n      <th>3</th>\n      <td>35.0</td>\n      <td>53.1000</td>\n      <td>4</td>\n      <td>1</td>\n      <td>1</td>\n      <td>1.0</td>\n      <td>2</td>\n      <td>1</td>\n      <td>0</td>\n      <td>0</td>\n      <td>0</td>\n      <td>0</td>\n      <td>0</td>\n      <td>1</td>\n      <td>0</td>\n      <td>0</td>\n      <td>0</td>\n      <td>0</td>\n      <td>1</td>\n      <td>0</td>\n      <td>0</td>\n      <td>0</td>\n      <td>0</td>\n      <td>0</td>\n      <td>0</td>\n      <td>0</td>\n      <td>0</td>\n      <td>1</td>\n    </tr>\n    <tr>\n      <th>4</th>\n      <td>35.0</td>\n      <td>8.0500</td>\n      <td>5</td>\n      <td>3</td>\n      <td>0</td>\n      <td>0.0</td>\n      <td>1</td>\n      <td>0</td>\n      <td>0</td>\n      <td>1</td>\n      <td>0</td>\n      <td>0</td>\n      <td>1</td>\n      <td>0</td>\n      <td>0</td>\n      <td>0</td>\n      <td>0</td>\n      <td>0</td>\n      <td>0</td>\n      <td>0</td>\n      <td>0</td>\n      <td>0</td>\n      <td>0</td>\n      <td>0</td>\n      <td>1</td>\n      <td>0</td>\n      <td>0</td>\n      <td>1</td>\n    </tr>\n  </tbody>\n</table>\n</div>"
          },
          "metadata": {}
        }
      ]
    },
    {
      "metadata": {
        "_uuid": "dffbac31c6825d6a83fb85a142ec85252a920b47"
      },
      "cell_type": "markdown",
      "source": "Seperating the train and test dataset from titanic_dummies. The train_index is the number of rows of original train data set. Hence all the values prior to it will be in the train set and all values after the train_index will be in test set"
    },
    {
      "metadata": {
        "trusted": true,
        "_uuid": "13f0c12152eada4ef6e7bd0cca8757c72dc7c470"
      },
      "cell_type": "code",
      "source": "train = titanic_dummies[ :train_index]\ntest = titanic_dummies[train_index: ]\n\ntrain.Survived = train.Survived.astype(int)\n",
      "execution_count": 94,
      "outputs": [
        {
          "output_type": "stream",
          "text": "/opt/conda/lib/python3.6/site-packages/pandas/core/generic.py:4405: SettingWithCopyWarning: \nA value is trying to be set on a copy of a slice from a DataFrame.\nTry using .loc[row_indexer,col_indexer] = value instead\n\nSee the caveats in the documentation: http://pandas.pydata.org/pandas-docs/stable/indexing.html#indexing-view-versus-copy\n  self[name] = value\n",
          "name": "stderr"
        }
      ]
    },
    {
      "metadata": {
        "trusted": true,
        "_uuid": "bf768029ec9031e723dee45469b8a4339e2d2842",
        "scrolled": true
      },
      "cell_type": "code",
      "source": "train.tail()",
      "execution_count": 95,
      "outputs": [
        {
          "output_type": "execute_result",
          "execution_count": 95,
          "data": {
            "text/plain": "      Age   Fare  PassengerId     ...      Embarked_C  Embarked_Q  Embarked_S\n886  27.0  13.00          887     ...               0           0           1\n887  19.0  30.00          888     ...               0           0           1\n888  18.0  23.45          889     ...               0           0           1\n889  26.0  30.00          890     ...               1           0           0\n890  32.0   7.75          891     ...               0           1           0\n\n[5 rows x 28 columns]",
            "text/html": "<div>\n<style scoped>\n    .dataframe tbody tr th:only-of-type {\n        vertical-align: middle;\n    }\n\n    .dataframe tbody tr th {\n        vertical-align: top;\n    }\n\n    .dataframe thead th {\n        text-align: right;\n    }\n</style>\n<table border=\"1\" class=\"dataframe\">\n  <thead>\n    <tr style=\"text-align: right;\">\n      <th></th>\n      <th>Age</th>\n      <th>Fare</th>\n      <th>PassengerId</th>\n      <th>Pclass</th>\n      <th>Sex</th>\n      <th>Survived</th>\n      <th>FamilySize</th>\n      <th>Pclass_1</th>\n      <th>Pclass_2</th>\n      <th>Pclass_3</th>\n      <th>Title_Master</th>\n      <th>Title_Miss</th>\n      <th>Title_Mr</th>\n      <th>Title_Mrs</th>\n      <th>Title_Officer</th>\n      <th>Title_Royalty</th>\n      <th>Cabin_A</th>\n      <th>Cabin_B</th>\n      <th>Cabin_C</th>\n      <th>Cabin_D</th>\n      <th>Cabin_E</th>\n      <th>Cabin_F</th>\n      <th>Cabin_G</th>\n      <th>Cabin_T</th>\n      <th>Cabin_U</th>\n      <th>Embarked_C</th>\n      <th>Embarked_Q</th>\n      <th>Embarked_S</th>\n    </tr>\n  </thead>\n  <tbody>\n    <tr>\n      <th>886</th>\n      <td>27.0</td>\n      <td>13.00</td>\n      <td>887</td>\n      <td>2</td>\n      <td>0</td>\n      <td>0</td>\n      <td>1</td>\n      <td>0</td>\n      <td>1</td>\n      <td>0</td>\n      <td>0</td>\n      <td>0</td>\n      <td>0</td>\n      <td>0</td>\n      <td>1</td>\n      <td>0</td>\n      <td>0</td>\n      <td>0</td>\n      <td>0</td>\n      <td>0</td>\n      <td>0</td>\n      <td>0</td>\n      <td>0</td>\n      <td>0</td>\n      <td>1</td>\n      <td>0</td>\n      <td>0</td>\n      <td>1</td>\n    </tr>\n    <tr>\n      <th>887</th>\n      <td>19.0</td>\n      <td>30.00</td>\n      <td>888</td>\n      <td>1</td>\n      <td>1</td>\n      <td>1</td>\n      <td>1</td>\n      <td>1</td>\n      <td>0</td>\n      <td>0</td>\n      <td>0</td>\n      <td>1</td>\n      <td>0</td>\n      <td>0</td>\n      <td>0</td>\n      <td>0</td>\n      <td>0</td>\n      <td>1</td>\n      <td>0</td>\n      <td>0</td>\n      <td>0</td>\n      <td>0</td>\n      <td>0</td>\n      <td>0</td>\n      <td>0</td>\n      <td>0</td>\n      <td>0</td>\n      <td>1</td>\n    </tr>\n    <tr>\n      <th>888</th>\n      <td>18.0</td>\n      <td>23.45</td>\n      <td>889</td>\n      <td>3</td>\n      <td>1</td>\n      <td>0</td>\n      <td>4</td>\n      <td>0</td>\n      <td>0</td>\n      <td>1</td>\n      <td>0</td>\n      <td>1</td>\n      <td>0</td>\n      <td>0</td>\n      <td>0</td>\n      <td>0</td>\n      <td>0</td>\n      <td>0</td>\n      <td>0</td>\n      <td>0</td>\n      <td>0</td>\n      <td>0</td>\n      <td>0</td>\n      <td>0</td>\n      <td>1</td>\n      <td>0</td>\n      <td>0</td>\n      <td>1</td>\n    </tr>\n    <tr>\n      <th>889</th>\n      <td>26.0</td>\n      <td>30.00</td>\n      <td>890</td>\n      <td>1</td>\n      <td>0</td>\n      <td>1</td>\n      <td>1</td>\n      <td>1</td>\n      <td>0</td>\n      <td>0</td>\n      <td>0</td>\n      <td>0</td>\n      <td>1</td>\n      <td>0</td>\n      <td>0</td>\n      <td>0</td>\n      <td>0</td>\n      <td>0</td>\n      <td>1</td>\n      <td>0</td>\n      <td>0</td>\n      <td>0</td>\n      <td>0</td>\n      <td>0</td>\n      <td>0</td>\n      <td>1</td>\n      <td>0</td>\n      <td>0</td>\n    </tr>\n    <tr>\n      <th>890</th>\n      <td>32.0</td>\n      <td>7.75</td>\n      <td>891</td>\n      <td>3</td>\n      <td>0</td>\n      <td>0</td>\n      <td>1</td>\n      <td>0</td>\n      <td>0</td>\n      <td>1</td>\n      <td>0</td>\n      <td>0</td>\n      <td>1</td>\n      <td>0</td>\n      <td>0</td>\n      <td>0</td>\n      <td>0</td>\n      <td>0</td>\n      <td>0</td>\n      <td>0</td>\n      <td>0</td>\n      <td>0</td>\n      <td>0</td>\n      <td>0</td>\n      <td>1</td>\n      <td>0</td>\n      <td>1</td>\n      <td>0</td>\n    </tr>\n  </tbody>\n</table>\n</div>"
          },
          "metadata": {}
        }
      ]
    },
    {
      "metadata": {
        "_uuid": "bf7472c0d99e0063a4780d3039713bdca19abd10"
      },
      "cell_type": "markdown",
      "source": "X contains training data set, Y contains the values for Survived column"
    },
    {
      "metadata": {
        "trusted": true,
        "_uuid": "642a2887e8d5bf045d1bf4ca7872bb452e57aba9"
      },
      "cell_type": "code",
      "source": "X = train.drop('Survived', axis=1).values \ny = train.Survived.values\nprint(X)",
      "execution_count": 96,
      "outputs": [
        {
          "output_type": "stream",
          "text": "[[ 22.       7.25     1.     ...   0.       0.       1.    ]\n [ 38.      71.2833   2.     ...   1.       0.       0.    ]\n [ 26.       7.925    3.     ...   0.       0.       1.    ]\n ...\n [ 18.      23.45   889.     ...   0.       0.       1.    ]\n [ 26.      30.     890.     ...   1.       0.       0.    ]\n [ 32.       7.75   891.     ...   0.       1.       0.    ]]\n",
          "name": "stdout"
        }
      ]
    },
    {
      "metadata": {
        "trusted": true,
        "_uuid": "e86e0822e0b72278eeb4bce0e3b8370f3ae99c79"
      },
      "cell_type": "code",
      "source": "X_test = test.drop('Survived', axis=1).values",
      "execution_count": 97,
      "outputs": []
    },
    {
      "metadata": {
        "_uuid": "1bf355da3e145cddc45e9bfaca07f93d11732e9e"
      },
      "cell_type": "markdown",
      "source": "Deiciding the parameters for the RandomForest CLassifier algorithm"
    },
    {
      "metadata": {
        "trusted": true,
        "_uuid": "a52830f33a0eb14b8044eff1b6c0aa3953719be1"
      },
      "cell_type": "code",
      "source": "forrest_params = dict(     \n    max_depth = [n for n in range(9, 14)],     \n    min_samples_split = [n for n in range(4, 11)], \n    min_samples_leaf = [n for n in range(2, 5)],     \n    n_estimators = [n for n in range(10, 60, 10)],\n)",
      "execution_count": 98,
      "outputs": []
    },
    {
      "metadata": {
        "_uuid": "53d2eafc5aa740933886a9306e6ac11d14b4a3aa"
      },
      "cell_type": "markdown",
      "source": "Import modules and train the dataset"
    },
    {
      "metadata": {
        "trusted": true,
        "_uuid": "2c7dd02cd138ee813abed1ea32146432af90f2d4"
      },
      "cell_type": "code",
      "source": "from sklearn.ensemble import RandomForestClassifier\nforrest = RandomForestClassifier()",
      "execution_count": 99,
      "outputs": []
    },
    {
      "metadata": {
        "trusted": true,
        "_uuid": "5a52cee19192b409c1daed3c92e6f9da93ecc100"
      },
      "cell_type": "code",
      "source": "from sklearn.model_selection import GridSearchCV\nforest_cv = GridSearchCV(estimator=forrest,     param_grid=forrest_params, cv=5) \nforest_cv.fit(X, y)",
      "execution_count": 100,
      "outputs": [
        {
          "output_type": "execute_result",
          "execution_count": 100,
          "data": {
            "text/plain": "GridSearchCV(cv=5, error_score='raise-deprecating',\n       estimator=RandomForestClassifier(bootstrap=True, class_weight=None, criterion='gini',\n            max_depth=None, max_features='auto', max_leaf_nodes=None,\n            min_impurity_decrease=0.0, min_impurity_split=None,\n            min_samples_leaf=1, min_samples_split=2,\n            min_weight_fraction_leaf=0.0, n_estimators='warn', n_jobs=None,\n            oob_score=False, random_state=None, verbose=0,\n            warm_start=False),\n       fit_params=None, iid='warn', n_jobs=None,\n       param_grid={'max_depth': [9, 10, 11, 12, 13], 'min_samples_split': [4, 5, 6, 7, 8, 9, 10], 'min_samples_leaf': [2, 3, 4], 'n_estimators': [10, 20, 30, 40, 50]},\n       pre_dispatch='2*n_jobs', refit=True, return_train_score='warn',\n       scoring=None, verbose=0)"
          },
          "metadata": {}
        }
      ]
    },
    {
      "metadata": {
        "trusted": true,
        "_uuid": "f0847d425db3bc2588e7361b4a6a7709f7c24bf2"
      },
      "cell_type": "code",
      "source": "print(\"Best score: {}\".format(forest_cv.best_score_))\nprint(\"Optimal params: {}\".format(forest_cv.best_estimator_))",
      "execution_count": 101,
      "outputs": [
        {
          "output_type": "stream",
          "text": "Best score: 0.8428731762065096\nOptimal params: RandomForestClassifier(bootstrap=True, class_weight=None, criterion='gini',\n            max_depth=12, max_features='auto', max_leaf_nodes=None,\n            min_impurity_decrease=0.0, min_impurity_split=None,\n            min_samples_leaf=4, min_samples_split=6,\n            min_weight_fraction_leaf=0.0, n_estimators=50, n_jobs=None,\n            oob_score=False, random_state=None, verbose=0,\n            warm_start=False)\n",
          "name": "stdout"
        }
      ]
    },
    {
      "metadata": {
        "trusted": true,
        "_uuid": "147c60fdc51eaacc194eb73637436bc8193797fb"
      },
      "cell_type": "code",
      "source": "forrest_pred = forest_cv.predict(X_test)",
      "execution_count": 102,
      "outputs": []
    },
    {
      "metadata": {
        "_uuid": "98fd2836f6167c2780ec6e49161b14a991fd6747"
      },
      "cell_type": "markdown",
      "source": "Submission"
    },
    {
      "metadata": {
        "trusted": true,
        "_uuid": "7e02918671e8afca43b4058f9be51fe2ac4baa26"
      },
      "cell_type": "code",
      "source": "test1 = pd.read_csv(\"../input/test.csv\")\npassengerId = test1['PassengerId']\nsub2 = pd.DataFrame({'PassengerId': passengerId, 'Survived': forrest_pred})\nsub2.to_csv('tnmy_Submission2.csv',index = False)",
      "execution_count": 103,
      "outputs": []
    }
  ],
  "metadata": {
    "kernelspec": {
      "display_name": "Python 3",
      "language": "python",
      "name": "python3"
    },
    "language_info": {
      "name": "python",
      "version": "3.6.6",
      "mimetype": "text/x-python",
      "codemirror_mode": {
        "name": "ipython",
        "version": 3
      },
      "pygments_lexer": "ipython3",
      "nbconvert_exporter": "python",
      "file_extension": ".py"
    }
  },
  "nbformat": 4,
  "nbformat_minor": 1
}